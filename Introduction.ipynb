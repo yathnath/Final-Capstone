{
    "cells": [
        {
            "cell_type": "markdown",
            "metadata": {},
            "source": "# Introduction\n"
        },
        {
            "cell_type": "markdown",
            "metadata": {},
            "source": "The City of New York, is the most populous city in the United States. It is diverse and is the financial\ncapital of USA. It is multicultural. It provides lot of business oppourtunities and business friendly\nenvironment. It has attracted many different players into the market. It is a global hub of business and\ncommerce. The city is a major center for banking and finance, retailing, world trade, transportation,\ntourism, real estate, new media, traditional media, advertising, legal services, accountancy, insurance,\ntheater, fashion, and the arts in the United States.\nThis also means that the market is highly competitive. As it is highly developed city so cost of doing\nbusiness is also one of the highest. Thus, any new business venture or expansion needs to be analysed\ncarefully. The insights derived from analysis will give good understanding of the business\nenvironment which help in strategically targeting the market. This will help in reduction of risk. And\nthe Return on Investment will be reasonable. \n"
        },
        {
            "cell_type": "markdown",
            "metadata": {},
            "source": "## Business problem\n"
        },
        {
            "cell_type": "markdown",
            "metadata": {},
            "source": "The City of New York is famous\nfor its excelllent cuisine. It's food culture includes an array of international cuisines influenced by the\ncity's immigrant history. \n\nSushi restaurants have become so popular in the United States now it seems that there is  one on every corner, not only in major cities but also in smaller cities. Starting a sushi restaurant can be a great business opportunity, but you need to distinguish yourself from others to enjoy long-term success."
        },
        {
            "cell_type": "markdown",
            "metadata": {},
            "source": "### Find a suitable location. "
        },
        {
            "cell_type": "markdown",
            "metadata": {},
            "source": "If you plan a real restaurant that can demand higher prices for fresh fish, delivered daily from Japan, focus on neighborhoods and outlets that already attract a sophisticated Japanese client. If you plan a cheap buffet restaurant, points to the masses looking for affordable high-traffic locations with large shopping centers and other local points of interest. So it is evident that to survive in such competitive market it is very important to startegically plan.\nVarious factors need to be studied inorder to decide on the Location "
        },
        {
            "cell_type": "markdown",
            "metadata": {},
            "source": "### Target Audience: "
        },
        {
            "cell_type": "markdown",
            "metadata": {},
            "source": "My Client wants to open his business in Manhattan area, so I only focus on that borough during my analysis. The objective is to locate and recommend to the management which neighborhood of Newyork city will be best choice to start a restaurant. The Management also expects to understand the rationale of the recommendations made.\n\nThis would interest anyone who wants to start a new restaurant in Newyork city.\n"
        },
        {
            "cell_type": "code",
            "execution_count": null,
            "metadata": {},
            "outputs": [],
            "source": ""
        }
    ],
    "metadata": {
        "kernelspec": {
            "display_name": "Python 3",
            "language": "python",
            "name": "python3"
        },
        "language_info": {
            "codemirror_mode": {
                "name": "ipython",
                "version": 3
            },
            "file_extension": ".py",
            "mimetype": "text/x-python",
            "name": "python",
            "nbconvert_exporter": "python",
            "pygments_lexer": "ipython3",
            "version": "3.7.3"
        }
    },
    "nbformat": 4,
    "nbformat_minor": 2
}